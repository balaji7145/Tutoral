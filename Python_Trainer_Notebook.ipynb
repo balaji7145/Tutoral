{
  "nbformat": 4,
  "nbformat_minor": 0,
  "metadata": {
    "colab": {
      "provenance": [],
      "include_colab_link": true
    },
    "kernelspec": {
      "name": "python3",
      "display_name": "Python 3"
    },
    "language_info": {
      "name": "python"
    }
  },
  "cells": [
    {
      "cell_type": "markdown",
      "metadata": {
        "id": "view-in-github",
        "colab_type": "text"
      },
      "source": [
        "<a href=\"https://colab.research.google.com/github/balaji7145/Tutoral/blob/main/Python_Trainer_Notebook.ipynb\" target=\"_parent\"><img src=\"https://colab.research.google.com/assets/colab-badge.svg\" alt=\"Open In Colab\"/></a>"
      ]
    },
    {
      "cell_type": "markdown",
      "source": [
        "# **Instabase Python Trainer Notebook** *(Zero to One)*"
      ],
      "metadata": {
        "id": "Z4FTcvTAdQKq"
      }
    },
    {
      "cell_type": "markdown",
      "source": [
        "# [**Click on this Course**](https://www.youtube.com/watch?v=eWRfhZUzrAc&t=2s)"
      ],
      "metadata": {
        "id": "Uwve7HQNa_8p"
      }
    },
    {
      "cell_type": "markdown",
      "source": [
        "## Variable And Functions\n",
        "print(\"ff\")"
      ],
      "metadata": {
        "id": "cpgKGi14bJCQ"
      }
    },
    {
      "cell_type": "code",
      "source": [
        "def get_choices():\n",
        "  player_choice = \"rock\"\n",
        "  computer_choice =\"paper\"\n",
        "  return player_choice\n",
        "\n"
      ],
      "metadata": {
        "colab": {
          "base_uri": "https://localhost:8080/"
        },
        "id": "ElLIyZ_887xg",
        "outputId": "211d45c0-33dd-4598-96a4-1fd3be6da6a7"
      },
      "execution_count": 4,
      "outputs": [
        {
          "output_type": "stream",
          "name": "stdout",
          "text": [
            "rock\n"
          ]
        }
      ]
    },
    {
      "cell_type": "markdown",
      "source": [
        "## Calling Funtions"
      ],
      "metadata": {
        "id": "nPYEMWVUbPyG"
      }
    },
    {
      "cell_type": "code",
      "source": [
        "def get_choices():\n",
        "  player_choice = \"rock\"\n",
        "  computer_choice =\"paper\"\n",
        "  return player_choice\n",
        "choices=get_choices()\n",
        "print(choices)"
      ],
      "metadata": {
        "id": "QQg2W7qgbTld",
        "colab": {
          "base_uri": "https://localhost:8080/"
        },
        "outputId": "480a3141-5629-413b-abdb-74c13a3ca11b"
      },
      "execution_count": 5,
      "outputs": [
        {
          "output_type": "stream",
          "name": "stdout",
          "text": [
            "rock\n"
          ]
        }
      ]
    },
    {
      "cell_type": "markdown",
      "source": [
        "# Dictionaries"
      ],
      "metadata": {
        "id": "3zCwfoAsdcJc"
      }
    },
    {
      "cell_type": "code",
      "source": [
        "def get_choices():\n",
        "  player_choice = \"rock\"\n",
        "  computer_choice =\"paper\"\n",
        "  choices = {\"player\":player_choice, \"computer\":computer_choice }\n",
        "  return choices\n",
        "choices=get_choices()\n",
        "print(choices)"
      ],
      "metadata": {
        "id": "_DIhAalSde__",
        "colab": {
          "base_uri": "https://localhost:8080/"
        },
        "outputId": "3fc011dd-3829-416c-ff4f-444d0fca1c52"
      },
      "execution_count": 6,
      "outputs": [
        {
          "output_type": "stream",
          "name": "stdout",
          "text": [
            "{'player': 'rock', 'computer': 'paper'}\n"
          ]
        }
      ]
    },
    {
      "cell_type": "markdown",
      "source": [
        "## User Input"
      ],
      "metadata": {
        "id": "petiJbGXdfhj"
      }
    },
    {
      "cell_type": "code",
      "source": [
        "def get_choices():\n",
        "  player_choice = input(\"Enter your choice(rock, bala,yuvi)\")\n",
        "  computer_choice =\"paper\"\n",
        "  choices = {\"player\":player_choice, \"computer\":computer_choice }\n",
        "  return choices\n",
        "choices=get_choices()\n",
        "print(choices)"
      ],
      "metadata": {
        "id": "_9k1DtPvdgi1",
        "colab": {
          "base_uri": "https://localhost:8080/"
        },
        "outputId": "ae64e355-53f6-437b-ce2a-a95a86f00ac2"
      },
      "execution_count": 7,
      "outputs": [
        {
          "output_type": "stream",
          "name": "stdout",
          "text": [
            "Enter your choice(rock, bala,yuvi)yuvi\n",
            "{'player': 'yuvi', 'computer': 'paper'}\n"
          ]
        }
      ]
    },
    {
      "cell_type": "markdown",
      "source": [
        "## Libraries, Lists, Methods"
      ],
      "metadata": {
        "id": "tzZl3DOXdprh"
      }
    },
    {
      "cell_type": "code",
      "source": [
        "import random\n",
        "\n",
        "def get_choices():\n",
        "  player_choice = input(\"Enter your choice(rock, bala,yuvi)\")\n",
        "  options=[\"rock\", \"bala\",\"yuvi\"]\n",
        "  computer_choice =random.choice(options)\n",
        "  choices = {\"player\":player_choice, \"computer\":computer_choice }\n",
        "  return choices\n",
        "choices=get_choices()\n",
        "print(choices)"
      ],
      "metadata": {
        "id": "_S9m4uMlds3G",
        "colab": {
          "base_uri": "https://localhost:8080/"
        },
        "outputId": "eb5abfe4-0cf5-4e3e-9ccd-ce66376a6e2a"
      },
      "execution_count": 10,
      "outputs": [
        {
          "output_type": "stream",
          "name": "stdout",
          "text": [
            "Enter your choice(rock, bala,yuvi)rock\n",
            "{'player': 'rock', 'computer': 'yuvi'}\n"
          ]
        }
      ]
    },
    {
      "cell_type": "markdown",
      "source": [
        "## Function Arguments"
      ],
      "metadata": {
        "id": "l-tGnRjadtV5"
      }
    },
    {
      "cell_type": "code",
      "source": [
        "def check_win(player, coumputer):\n",
        "  return[player, coumputer]"
      ],
      "metadata": {
        "id": "EV16_MRKdumv"
      },
      "execution_count": null,
      "outputs": []
    },
    {
      "cell_type": "markdown",
      "source": [
        "## If Statements "
      ],
      "metadata": {
        "id": "03ei427ydvCH"
      }
    },
    {
      "cell_type": "code",
      "source": [
        "def check_win(player, computer):\n",
        "  print(\"you choose \" + player + \", computer choose \" + computer)\n",
        "  if player == computer:\n",
        "    return \"its tie\"\n",
        "\n",
        "  "
      ],
      "metadata": {
        "id": "KLdfAJpAdw5e"
      },
      "execution_count": null,
      "outputs": []
    },
    {
      "cell_type": "markdown",
      "source": [
        "## Concatenating Strings"
      ],
      "metadata": {
        "id": "lLc9dSxAdxlO"
      }
    },
    {
      "cell_type": "code",
      "source": [
        "def check_win(player, computer):\n",
        "  print(f\"you choose {player}, your computer{computer}\")\n",
        "  if player == computer:\n",
        "    return \"its tie\"\n",
        "  "
      ],
      "metadata": {
        "id": "Fe9SwQGddzI_"
      },
      "execution_count": null,
      "outputs": []
    },
    {
      "cell_type": "markdown",
      "source": [
        "## f-strings"
      ],
      "metadata": {
        "id": "P90e3Tehdzyo"
      }
    },
    {
      "cell_type": "code",
      "source": [
        "def check_win(player, computer):\n",
        "  print(f\"you choose \" + player + \", computer choose \" + computer)\n",
        "  if player == computer:\n",
        "    return \"its tie\"\n",
        "  \n",
        "check_win(\"rock\",\"yuvi\")"
      ],
      "metadata": {
        "id": "Qgo8cE3cd1Q2",
        "colab": {
          "base_uri": "https://localhost:8080/"
        },
        "outputId": "530c5d60-f0ab-4ea2-e03e-4fa2dd41177d"
      },
      "execution_count": 12,
      "outputs": [
        {
          "output_type": "stream",
          "name": "stdout",
          "text": [
            "you choose rock, computer choose yuvi\n"
          ]
        }
      ]
    },
    {
      "cell_type": "markdown",
      "source": [
        "## Else and Elif Statements"
      ],
      "metadata": {
        "id": "u_mTakxBd2kS"
      }
    },
    {
      "cell_type": "code",
      "source": [
        "def check_win(player, computer):\n",
        "  print(f\"you choose \" + player + \", computer choose \" + computer)\n",
        "  if player == computer:\n",
        "    return \"its tie\"\n",
        "  elif player ==\"rock\" and computer ==\"yuvi\": \n",
        "   return \"rock smshes yuvi\"\n",
        "  elif player ==\"rock\" and computer ==\"bala\": \n",
        "   return \"rock smshes bala\"\n",
        "   \n",
        "check_win(\"rock\",\"bala\")"
      ],
      "metadata": {
        "id": "zNjDnsigd2_W",
        "colab": {
          "base_uri": "https://localhost:8080/",
          "height": 53
        },
        "outputId": "cb67a034-da56-4cb0-cedc-31ad5cb12d7f"
      },
      "execution_count": 16,
      "outputs": [
        {
          "output_type": "stream",
          "name": "stdout",
          "text": [
            "you choose rock, computer choose bala\n"
          ]
        },
        {
          "output_type": "execute_result",
          "data": {
            "text/plain": [
              "'rock smshes bala'"
            ],
            "application/vnd.google.colaboratory.intrinsic+json": {
              "type": "string"
            }
          },
          "metadata": {},
          "execution_count": 16
        }
      ]
    },
    {
      "cell_type": "markdown",
      "source": [
        "## Refactoring and Nested If"
      ],
      "metadata": {
        "id": "wS2xfKnod4eR"
      }
    },
    {
      "cell_type": "code",
      "source": [
        "def check_win(player, computer):\n",
        "  print(f\"you choose \" + player + \", computer choose \" + computer)\n",
        "  if player == computer:\n",
        "    return \"its tie\"\n",
        "  elif player == \"rock\": \n",
        "   if computer ==\"yuvi\":\n",
        "     return \"rock smshes yuvi\"\n",
        " \n",
        "  else:\n",
        "    return \"rock smshes bala\" \n",
        "   \n",
        "check_win(\"rock\",\"bala\")"
      ],
      "metadata": {
        "id": "rIiYmwxfd5jW",
        "colab": {
          "base_uri": "https://localhost:8080/"
        },
        "outputId": "e0ed8a5d-0ede-4d14-c1dd-251ee7a638db"
      },
      "execution_count": 28,
      "outputs": [
        {
          "output_type": "stream",
          "name": "stdout",
          "text": [
            "you choose rock, computer choose bala\n"
          ]
        }
      ]
    },
    {
      "cell_type": "markdown",
      "source": [
        "## Accessing Dictionary Values"
      ],
      "metadata": {
        "id": "DD9fzpy-d62Y"
      }
    },
    {
      "cell_type": "code",
      "source": [],
      "metadata": {
        "id": "eY0OrKged7XW"
      },
      "execution_count": null,
      "outputs": []
    },
    {
      "cell_type": "markdown",
      "source": [
        "## Testing Game"
      ],
      "metadata": {
        "id": "6YCzWHIld9e9"
      }
    },
    {
      "cell_type": "code",
      "source": [],
      "metadata": {
        "id": "s0OEj-Gbd-On"
      },
      "execution_count": null,
      "outputs": []
    },
    {
      "cell_type": "markdown",
      "source": [
        "## Variables"
      ],
      "metadata": {
        "id": "pMILE6PCeN9p"
      }
    },
    {
      "cell_type": "code",
      "source": [],
      "metadata": {
        "id": "EVFLtjhUeOWX"
      },
      "execution_count": null,
      "outputs": []
    },
    {
      "cell_type": "markdown",
      "source": [
        "## Expressions and Statements "
      ],
      "metadata": {
        "id": "6q1iRyb2ePuB"
      }
    },
    {
      "cell_type": "code",
      "source": [],
      "metadata": {
        "id": "a3PXtTa0eREn"
      },
      "execution_count": null,
      "outputs": []
    },
    {
      "cell_type": "markdown",
      "source": [
        "## Comments"
      ],
      "metadata": {
        "id": "2rCTKhRLeRuE"
      }
    },
    {
      "cell_type": "code",
      "source": [
        "# this in single in commnd"
      ],
      "metadata": {
        "id": "x1raHR6OeTCn"
      },
      "execution_count": null,
      "outputs": []
    },
    {
      "cell_type": "markdown",
      "source": [
        "## Data Types"
      ],
      "metadata": {
        "id": "Y4UgKDOZeTlw"
      }
    },
    {
      "cell_type": "code",
      "source": [
        "j=9 #int\n",
        "s=\"hi\"#string\n",
        "k=True #boolen \n",
        "list\n",
        "tuples\n",
        "dictionary\n",
        "complex"
      ],
      "metadata": {
        "id": "5e5xG42ReVSf"
      },
      "execution_count": null,
      "outputs": []
    },
    {
      "cell_type": "markdown",
      "source": [
        "## Operators"
      ],
      "metadata": {
        "id": "mwrnTSyGeWYd"
      }
    },
    {
      "cell_type": "code",
      "source": [
        "Assignment operator =\n",
        "comparison operator ==\n",
        "logical \n",
        "in, is"
      ],
      "metadata": {
        "id": "Mi8S3b5KeWx3"
      },
      "execution_count": null,
      "outputs": []
    },
    {
      "cell_type": "markdown",
      "source": [
        "## Arithmetic Operators"
      ],
      "metadata": {
        "id": "whKmv46teX5c"
      }
    },
    {
      "cell_type": "code",
      "source": [
        "1+1 #2\n",
        "2-1 #1\n",
        "2*2 #4\n",
        "4/2 #2\n",
        "5%2 #1\n",
        "5//2 #2\n",
        "4**2 #16\n",
        "age =8\n",
        "age += 5\n",
        "#13\n",
        "print(age)"
      ],
      "metadata": {
        "id": "Y4rSawE8eYTP"
      },
      "execution_count": null,
      "outputs": []
    },
    {
      "cell_type": "markdown",
      "source": [
        "## Comparison Operators"
      ],
      "metadata": {
        "id": "6FmHbmxqeZq9"
      }
    },
    {
      "cell_type": "code",
      "source": [
        "a=2\n",
        "b=3\n",
        "a ! =b #True\n",
        "a ==b #False\n",
        "a ==b #False\n",
        "a <= b #True\n",
        "a >b # False"
      ],
      "metadata": {
        "id": "41c0Nb_QeaBZ"
      },
      "execution_count": null,
      "outputs": []
    },
    {
      "cell_type": "markdown",
      "source": [
        "## Boolean Operators"
      ],
      "metadata": {
        "id": "2-J7FeH7ebK1"
      }
    },
    {
      "cell_type": "code",
      "source": [
        "True\n",
        "False"
      ],
      "metadata": {
        "id": "kLdYyK5XebiG"
      },
      "execution_count": null,
      "outputs": []
    },
    {
      "cell_type": "markdown",
      "source": [
        "## Bitwise Operators"
      ],
      "metadata": {
        "id": "TaKZjFosec8n"
      }
    },
    {
      "cell_type": "code",
      "source": [
        ">> shift right ops\n",
        "<< shift left\n",
        "& perform binary and\n",
        "& perform binary and\n",
        "|  perform or\n",
        "^  perform xor\n",
        "~ perform not "
      ],
      "metadata": {
        "id": "MByGcBpOedUG"
      },
      "execution_count": null,
      "outputs": []
    },
    {
      "cell_type": "markdown",
      "source": [
        "## is & in Operators"
      ],
      "metadata": {
        "id": "hV5q9mC-eeo4"
      }
    },
    {
      "cell_type": "code",
      "source": [
        "is identity Operators\n",
        "in membership"
      ],
      "metadata": {
        "id": "Ndi4cnzlefAP"
      },
      "execution_count": null,
      "outputs": []
    },
    {
      "cell_type": "markdown",
      "source": [
        "## Ternary Operator"
      ],
      "metadata": {
        "id": "CUEmAwccegYF"
      }
    },
    {
      "cell_type": "code",
      "source": [
        "def is_adult(age):\n",
        "  return True if age > 18 else False"
      ],
      "metadata": {
        "id": "MF-zLeiRegw2"
      },
      "execution_count": null,
      "outputs": []
    },
    {
      "cell_type": "markdown",
      "source": [
        "## Strings"
      ],
      "metadata": {
        "id": "7L1YgOd8eh5h"
      }
    },
    {
      "cell_type": "code",
      "source": [
        "print(\"yuvi\".upper())"
      ],
      "metadata": {
        "id": "kwFNtWYkei_u",
        "colab": {
          "base_uri": "https://localhost:8080/"
        },
        "outputId": "e0e6beaf-ad7c-4aa4-8ca5-eee4cc0678ad"
      },
      "execution_count": 1,
      "outputs": [
        {
          "output_type": "stream",
          "name": "stdout",
          "text": [
            "YUVI\n"
          ]
        }
      ]
    },
    {
      "cell_type": "markdown",
      "source": [
        "## String Methods"
      ],
      "metadata": {
        "id": "_2IoegzLek6x"
      }
    },
    {
      "cell_type": "code",
      "source": [
        "print(\"yuvi\".upper())\n",
        "print(\"yuvi\".lower())\n",
        "print(\"yuvi\".isupper())\n",
        "print(\"yuvi\".islower())\n",
        "print(\"yUvi\".title())\n",
        "print(\"yUvi\".startswith())\n",
        "print(\"yUvi\".endsswith())\n",
        "print(\"yUvi\".strip())\n",
        "print(\"yUvi\".find())\n",
        "print(\"yUvi\".join())\n",
        "print(\"yUvi\".split())\n",
        "print(\"yUvi\".replce())\n",
        "print(\"yuvi\".upper())\n",
        "\n",
        "\n",
        "\n"
      ],
      "metadata": {
        "id": "Q6mQwv5_elY2",
        "colab": {
          "base_uri": "https://localhost:8080/"
        },
        "outputId": "67fadf7d-ad32-4b92-baa5-b64a5d3772fb"
      },
      "execution_count": 2,
      "outputs": [
        {
          "output_type": "stream",
          "name": "stdout",
          "text": [
            "YUVI\n",
            "yuvi\n",
            "False\n",
            "True\n"
          ]
        }
      ]
    },
    {
      "cell_type": "markdown",
      "source": [
        "## Escaping Characters"
      ],
      "metadata": {
        "id": "u9cxX7ciemf8"
      }
    },
    {
      "cell_type": "code",
      "source": [
        "\\n"
      ],
      "metadata": {
        "id": "qHh5l3Eiem_H"
      },
      "execution_count": null,
      "outputs": []
    },
    {
      "cell_type": "markdown",
      "source": [
        "## String Characters & Slicing"
      ],
      "metadata": {
        "id": "splRgy3JeoGJ"
      }
    },
    {
      "cell_type": "code",
      "source": [
        "Name=\"yuvi\"\n",
        "print(\"yU\" in Name)\n",
        "print(Name[0])\n",
        "print(Name[1:4])"
      ],
      "metadata": {
        "id": "6Xt-fu0Beop2"
      },
      "execution_count": null,
      "outputs": []
    },
    {
      "cell_type": "markdown",
      "source": [
        "## Booleans"
      ],
      "metadata": {
        "id": "ba0Wi85Vepwa"
      }
    },
    {
      "cell_type": "code",
      "source": [
        "done= True\n",
        "if done:\n",
        "  print(\"yes\")\n",
        "else:\n",
        "  print(\"no\")"
      ],
      "metadata": {
        "id": "Ylg0Z_8weqOf",
        "colab": {
          "base_uri": "https://localhost:8080/"
        },
        "outputId": "190ea993-e7df-4072-f395-54e6f8056bd6"
      },
      "execution_count": 4,
      "outputs": [
        {
          "output_type": "stream",
          "name": "stdout",
          "text": [
            "yes\n"
          ]
        }
      ]
    },
    {
      "cell_type": "markdown",
      "source": [
        "## Number Data Types"
      ],
      "metadata": {
        "id": "GAsbi4JFerlH"
      }
    },
    {
      "cell_type": "code",
      "source": [
        "num1= 3+5j\n",
        "num2 = complex(3,5)\n",
        "print(num2.real, num2.imag)"
      ],
      "metadata": {
        "id": "WQuOcuvUer_X",
        "colab": {
          "base_uri": "https://localhost:8080/",
          "height": 200
        },
        "outputId": "0d086d92-ef2b-4e77-9659-69023fe4e8b4"
      },
      "execution_count": 13,
      "outputs": [
        {
          "output_type": "error",
          "ename": "TypeError",
          "evalue": "ignored",
          "traceback": [
            "\u001b[0;31m---------------------------------------------------------------------------\u001b[0m",
            "\u001b[0;31mTypeError\u001b[0m                                 Traceback (most recent call last)",
            "\u001b[0;32m<ipython-input-13-5b7811e31941>\u001b[0m in \u001b[0;36m<module>\u001b[0;34m\u001b[0m\n\u001b[1;32m      1\u001b[0m \u001b[0mnum1\u001b[0m\u001b[0;34m=\u001b[0m \u001b[0;36m3\u001b[0m\u001b[0;34m+\u001b[0m\u001b[0;36m5j\u001b[0m\u001b[0;34m\u001b[0m\u001b[0;34m\u001b[0m\u001b[0m\n\u001b[0;32m----> 2\u001b[0;31m \u001b[0mnum2\u001b[0m \u001b[0;34m=\u001b[0m \u001b[0mcomplex\u001b[0m\u001b[0;34m(\u001b[0m\u001b[0;36m3\u001b[0m\u001b[0;34m,\u001b[0m\u001b[0;36m5\u001b[0m\u001b[0;34m)\u001b[0m\u001b[0;34m\u001b[0m\u001b[0;34m\u001b[0m\u001b[0m\n\u001b[0m\u001b[1;32m      3\u001b[0m \u001b[0mprint\u001b[0m\u001b[0;34m(\u001b[0m\u001b[0mnum2\u001b[0m\u001b[0;34m.\u001b[0m\u001b[0mreal\u001b[0m\u001b[0;34m,\u001b[0m \u001b[0mnum2\u001b[0m\u001b[0;34m.\u001b[0m\u001b[0mimag\u001b[0m\u001b[0;34m)\u001b[0m\u001b[0;34m\u001b[0m\u001b[0;34m\u001b[0m\u001b[0m\n",
            "\u001b[0;31mTypeError\u001b[0m: 'complex' object is not callable"
          ]
        }
      ]
    },
    {
      "cell_type": "markdown",
      "source": [
        "## Built-in Functions"
      ],
      "metadata": {
        "id": "XolXXFBaetuF"
      }
    },
    {
      "cell_type": "code",
      "source": [
        "print(abs(5.5))\n",
        "print(round(5.5))\n"
      ],
      "metadata": {
        "id": "cZiBq-tWeuJv",
        "colab": {
          "base_uri": "https://localhost:8080/"
        },
        "outputId": "4f57eb2c-a7a9-4b52-df66-d9f22d68a148"
      },
      "execution_count": 16,
      "outputs": [
        {
          "output_type": "stream",
          "name": "stdout",
          "text": [
            "5.5\n",
            "-6\n"
          ]
        }
      ]
    },
    {
      "cell_type": "markdown",
      "source": [
        "## Enums"
      ],
      "metadata": {
        "id": "I53j-y1HevDM"
      }
    },
    {
      "cell_type": "code",
      "source": [
        "#constant\n"
      ],
      "metadata": {
        "id": "NEVbNcKMevfn"
      },
      "execution_count": null,
      "outputs": []
    },
    {
      "cell_type": "markdown",
      "source": [
        "## User Input"
      ],
      "metadata": {
        "id": "TYB97bGcewsF"
      }
    },
    {
      "cell_type": "code",
      "source": [
        "age = input(\"wht is ur age?\")\n",
        "print(\"your age is \" + age)"
      ],
      "metadata": {
        "id": "R6Tn9dRvexUX",
        "colab": {
          "base_uri": "https://localhost:8080/"
        },
        "outputId": "103d5f73-903c-4646-9613-b4edf9d33efa"
      },
      "execution_count": 17,
      "outputs": [
        {
          "output_type": "stream",
          "name": "stdout",
          "text": [
            "wht is ur age?5\n",
            "your age is 5\n"
          ]
        }
      ]
    },
    {
      "cell_type": "markdown",
      "source": [
        "## Control Statements"
      ],
      "metadata": {
        "id": "S7iXVmC_eyow"
      }
    },
    {
      "cell_type": "code",
      "source": [
        "condition = True\n",
        "name = \"Yuvi\"\n",
        "if condition ==True:\n",
        " print(\"kk\")\n",
        "elif name == \"myur\":\n",
        "  print(\"dfj\")\n",
        "else:\n",
        "  print(\"fffj\")\n",
        " "
      ],
      "metadata": {
        "id": "CX7ztXvKey_e",
        "colab": {
          "base_uri": "https://localhost:8080/"
        },
        "outputId": "b956e017-e9e0-4960-e76f-32146f6caa5c"
      },
      "execution_count": 18,
      "outputs": [
        {
          "output_type": "stream",
          "name": "stdout",
          "text": [
            "kk\n"
          ]
        }
      ]
    },
    {
      "cell_type": "markdown",
      "source": [
        "## Lists"
      ],
      "metadata": {
        "id": "-o62Jhgcez5h"
      }
    },
    {
      "cell_type": "code",
      "source": [
        "\n",
        "dogs=[\"roger\",\"True\",5,5.5,\"tk\"]\n",
        "print(dogs[4])\n",
        "dogs[2]=\"jk\"\n",
        "print(dogs)\n",
        "print(dogs[2:])\n",
        "dogs.append(\"ff\")\n",
        "print(dogs)\n",
        "dogs.extend([\"fidd\", 5])\n",
        "print(dogs)\n",
        "dogs.insert(4, \"ffkljfdlk\")\n",
        "print(dogs)\n",
        "dogs.remove(\"True\") #object wise remove\n",
        "dogs.delete(\"5\") #index wise delete\n",
        "dogs.pop(\"5\") #index wise delete\n"
      ],
      "metadata": {
        "id": "Ph58MxB2e0RX",
        "colab": {
          "base_uri": "https://localhost:8080/"
        },
        "outputId": "e22945fb-9e9a-485c-bd9a-2c0bf8ce7c9c"
      },
      "execution_count": 25,
      "outputs": [
        {
          "output_type": "stream",
          "name": "stdout",
          "text": [
            "tk\n",
            "['roger', 'True', 'jk', 5.5, 'tk']\n"
          ]
        }
      ]
    },
    {
      "cell_type": "markdown",
      "source": [
        "## Sorting Lists"
      ],
      "metadata": {
        "id": "JXCNZ6obe1Rk"
      }
    },
    {
      "cell_type": "code",
      "source": [
        "items=[\"roger\",\"True\",\"tk\"]\n",
        "items.sort()\n",
        "print(items)\n",
        "itemscopy = items[:]\n",
        "print(itemscopy)"
      ],
      "metadata": {
        "id": "lQVmMqQNe1nG",
        "colab": {
          "base_uri": "https://localhost:8080/"
        },
        "outputId": "f183e83c-b0ae-471f-f0b5-83b52f310235"
      },
      "execution_count": 28,
      "outputs": [
        {
          "output_type": "stream",
          "name": "stdout",
          "text": [
            "['True', 'roger', 'tk']\n",
            "['True', 'roger', 'tk']\n"
          ]
        }
      ]
    },
    {
      "cell_type": "markdown",
      "source": [
        "## Tuples"
      ],
      "metadata": {
        "id": "v-XATXsSe2fU"
      }
    },
    {
      "cell_type": "code",
      "source": [
        "#immutble, ordered, \n",
        "names = (\"rgers\",\"ddk\")\n",
        "names[0]\n",
        "names.index(\"ddk\")\n",
        "len(names)\n",
        "print(\"ddk\" in names)"
      ],
      "metadata": {
        "id": "lywfMI8xe2y-",
        "colab": {
          "base_uri": "https://localhost:8080/"
        },
        "outputId": "dea3a53e-a78e-4c62-8d6e-3c2a3a520e7d"
      },
      "execution_count": 32,
      "outputs": [
        {
          "output_type": "execute_result",
          "data": {
            "text/plain": [
              "1"
            ]
          },
          "metadata": {},
          "execution_count": 32
        }
      ]
    },
    {
      "cell_type": "markdown",
      "source": [
        "## Dictionaries"
      ],
      "metadata": {
        "id": "z51qJ72re38l"
      }
    },
    {
      "cell_type": "code",
      "source": [
        "#mutble, ordered\n",
        "dog ={\"name\": \"roger\", \"age\": 42, \"color\": \"greeen\"}\n",
        "dog[\"name\"]\n",
        "dog[\"name\"] = \"sid\" #add items\n",
        "dog.get(dog(name)\n",
        "print(dog.pop(\"name\"))\n",
        "print(dog.popitem(\"name\"))\n",
        "print(dog.pop(\"name\" in dog))\n",
        "print(dog.keys())\n",
        "print(dog.values())\n",
        "print(len(dog))\n",
        "print(dog.items())\n",
        "dogcopy = dog.copy()"
      ],
      "metadata": {
        "id": "AswcmGTke4VG",
        "colab": {
          "base_uri": "https://localhost:8080/",
          "height": 36
        },
        "outputId": "84bade40-7552-4aad-97e5-610d916d21f4"
      },
      "execution_count": 33,
      "outputs": [
        {
          "output_type": "execute_result",
          "data": {
            "text/plain": [
              "'roger'"
            ],
            "application/vnd.google.colaboratory.intrinsic+json": {
              "type": "string"
            }
          },
          "metadata": {},
          "execution_count": 33
        }
      ]
    },
    {
      "cell_type": "markdown",
      "source": [
        "## Sets"
      ],
      "metadata": {
        "id": "o93NW4-Be5cC"
      }
    },
    {
      "cell_type": "code",
      "source": [
        "#unordered, no duplictes, perform intersect, union, \n",
        "set1= {\"roger\",\"sid\"}\n",
        "set2= {\"roger\",\"myr\"}\n",
        "intersect = set1 & set2\n",
        "print(intersect)\n",
        "union = set1 | set2\n",
        "print(union)\n",
        "union = set1 > set2\n",
        "print(union)"
      ],
      "metadata": {
        "id": "v3CIIJeAe5xu",
        "colab": {
          "base_uri": "https://localhost:8080/"
        },
        "outputId": "076eb72a-7982-40a4-c0f8-e9edcb4b17d3"
      },
      "execution_count": 38,
      "outputs": [
        {
          "output_type": "stream",
          "name": "stdout",
          "text": [
            "{'roger'}\n",
            "{'sid', 'roger', 'myr'}\n",
            "False\n"
          ]
        }
      ]
    },
    {
      "cell_type": "markdown",
      "source": [
        "## Functions"
      ],
      "metadata": {
        "id": "UlOZz1nwe66p"
      }
    },
    {
      "cell_type": "code",
      "source": [
        "def hello():\n",
        "  print(\"hi\")\n",
        "hello()\n",
        "\n",
        "def hello2(name):\n",
        "  print(\"hi\" +name)\n",
        "hello2(\"bkk\")\n",
        "\n",
        "#optionl/default\n",
        "def hello3(name= \"kk\"):\n",
        "  print(\"hi\" +name)\n",
        "hello3(\"bkk\")\n",
        "hello3()\n",
        "\n",
        "\n",
        "def hello4(name):\n",
        "  if not name:\n",
        "    return\n",
        "    print(\"hello\" +name)\n",
        "hello4(\"bk\")"
      ],
      "metadata": {
        "id": "i4lZX_n8e7TO",
        "colab": {
          "base_uri": "https://localhost:8080/"
        },
        "outputId": "68f34ba9-8fb4-4912-a618-30abab2955c3"
      },
      "execution_count": 44,
      "outputs": [
        {
          "output_type": "stream",
          "name": "stdout",
          "text": [
            "hi\n",
            "hibkk\n",
            "hibkk\n",
            "hikk\n"
          ]
        }
      ]
    },
    {
      "cell_type": "markdown",
      "source": [
        "## Variable Scope"
      ],
      "metadata": {
        "id": "YfJx0wrPe8mH"
      }
    },
    {
      "cell_type": "code",
      "source": [],
      "metadata": {
        "id": "96Jp-il7e9A2"
      },
      "execution_count": null,
      "outputs": []
    },
    {
      "cell_type": "markdown",
      "source": [
        "## Nested Functions "
      ],
      "metadata": {
        "id": "rsdLZV63e-VW"
      }
    },
    {
      "cell_type": "code",
      "source": [
        "from re import split\n",
        "def talk(phrase):\n",
        "  def say(word):\n",
        "      print(word)\n",
        "  words = phrase.split(' ')\n",
        "  for word in words:\n",
        "      say(word)\n",
        "talk(\"im going to buy milk\") \n"
      ],
      "metadata": {
        "id": "C4gt9Kjoe-ve",
        "colab": {
          "base_uri": "https://localhost:8080/"
        },
        "outputId": "1d3ce7d4-d818-4525-9396-e841aa82c107"
      },
      "execution_count": 45,
      "outputs": [
        {
          "output_type": "stream",
          "name": "stdout",
          "text": [
            "im\n",
            "going\n",
            "to\n",
            "buy\n",
            "milk\n"
          ]
        }
      ]
    },
    {
      "cell_type": "markdown",
      "source": [
        "## Closures"
      ],
      "metadata": {
        "id": "fM8dAnvie_p6"
      }
    },
    {
      "cell_type": "code",
      "source": [
        "def counter():\n",
        "  count = 0\n",
        "  def increment():\n",
        "    nonlocal count\n",
        "    count = count +1\n",
        "    return count\n",
        "  return increment\n",
        "\n",
        "increment = counter()\n",
        "print(increment())\n",
        "  "
      ],
      "metadata": {
        "id": "kZCiwrFtfADm",
        "colab": {
          "base_uri": "https://localhost:8080/"
        },
        "outputId": "e75d7cf5-7f62-4f44-9dc9-d8638533f52e"
      },
      "execution_count": 60,
      "outputs": [
        {
          "output_type": "stream",
          "name": "stdout",
          "text": [
            "1\n"
          ]
        }
      ]
    },
    {
      "cell_type": "markdown",
      "source": [
        "## Objects"
      ],
      "metadata": {
        "id": "C02Pc0GCfBB_"
      }
    },
    {
      "cell_type": "code",
      "source": [],
      "metadata": {
        "id": "2W0N_9JRfBZu"
      },
      "execution_count": null,
      "outputs": []
    },
    {
      "cell_type": "markdown",
      "source": [
        "## Loops"
      ],
      "metadata": {
        "id": "Q4Qhe-HufCe7"
      }
    },
    {
      "cell_type": "code",
      "source": [],
      "metadata": {
        "id": "VD4BYaZYfC52"
      },
      "execution_count": null,
      "outputs": []
    },
    {
      "cell_type": "markdown",
      "source": [
        "## Break and Continue"
      ],
      "metadata": {
        "id": "Xabbhir4fED1"
      }
    },
    {
      "cell_type": "code",
      "source": [],
      "metadata": {
        "id": "C5_SdToCfEYu"
      },
      "execution_count": null,
      "outputs": []
    },
    {
      "cell_type": "markdown",
      "source": [
        "## Classes"
      ],
      "metadata": {
        "id": "S7Akc8MUfFUB"
      }
    },
    {
      "cell_type": "code",
      "source": [],
      "metadata": {
        "id": "ZP_gl9IrfFvm"
      },
      "execution_count": null,
      "outputs": []
    },
    {
      "cell_type": "markdown",
      "source": [
        "## Modules"
      ],
      "metadata": {
        "id": "voM_fnldfGsC"
      }
    },
    {
      "cell_type": "code",
      "source": [],
      "metadata": {
        "id": "SfXtMHMufHd-"
      },
      "execution_count": null,
      "outputs": []
    },
    {
      "cell_type": "markdown",
      "source": [
        "## Arguments from Command Line"
      ],
      "metadata": {
        "id": "lS2yKZnSfK3E"
      }
    },
    {
      "cell_type": "code",
      "source": [],
      "metadata": {
        "id": "HetLVVF3fLUP"
      },
      "execution_count": null,
      "outputs": []
    },
    {
      "cell_type": "markdown",
      "source": [
        "## Lambda Functions"
      ],
      "metadata": {
        "id": "ly5LEeRefMt2"
      }
    },
    {
      "cell_type": "code",
      "source": [],
      "metadata": {
        "id": "BeZeGnl0fNCO"
      },
      "execution_count": null,
      "outputs": []
    },
    {
      "cell_type": "markdown",
      "source": [
        "## Map, Filter, Reduce"
      ],
      "metadata": {
        "id": "7Gh4uf41fOna"
      }
    },
    {
      "cell_type": "code",
      "source": [],
      "metadata": {
        "id": "x3ZW62tGfO7_"
      },
      "execution_count": null,
      "outputs": []
    },
    {
      "cell_type": "markdown",
      "source": [
        "## Recursion "
      ],
      "metadata": {
        "id": "q_isGYkCfQBP"
      }
    },
    {
      "cell_type": "code",
      "source": [],
      "metadata": {
        "id": "AaT1_pmUfQhW"
      },
      "execution_count": null,
      "outputs": []
    },
    {
      "cell_type": "markdown",
      "source": [
        "# The remaining modules from the Video is Optional if you wish to continue you can continue"
      ],
      "metadata": {
        "id": "N2Glk5gYfSnV"
      }
    },
    {
      "cell_type": "code",
      "source": [],
      "metadata": {
        "id": "KP3bIsY-fcEG"
      },
      "execution_count": null,
      "outputs": []
    }
  ]
}